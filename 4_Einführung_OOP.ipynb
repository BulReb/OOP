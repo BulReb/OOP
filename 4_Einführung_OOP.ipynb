{
  "cells": [
    {
      "cell_type": "markdown",
      "id": "442e6292",
      "metadata": {
        "id": "442e6292"
      },
      "source": [
        "# Einführung in die objektorientierte Programmierung mit Python\n",
        "\n",
        "Aus den bisherigen Vorlesungen kennen Sie bereits die einfachen Programmierkonstrukte wie\n",
        "* Variablen\n",
        "* Schleifen\n",
        "* Bedingungen\n",
        "* Funktionen.\n",
        "\n",
        "Sie kennen auch bereits die einfachen Datenstrukturen wie\n",
        "* Listen (**list**)\n",
        "* Dictionaries (**dict**)\n",
        "* Schlangen (hier Double-Ended-Queues, **deque**).\n",
        "\n",
        "Als nächstes werden wir die grundlegenden Konstrukte der Objektorientierung am Beispiel des Sensors und des Aktors aus der Vorlesung kennenlernen.\n",
        "\n",
        "In der folgenden Abbildung sehen Sie dazu noch einmal den Aufbau des Systems:\n",
        "\n",
        "![Systemaufbau](./aufbau.png)\n",
        "\n",
        "Der Einfachheit halber sagen wir hier, dass ein Werkstück durch einen Farbwert repräsentiert wird (RGB) und wir speichern die Werte in einem Dictionary (dict)"
      ]
    },
    {
      "cell_type": "code",
      "execution_count": 1,
      "id": "81638d27",
      "metadata": {
        "id": "81638d27"
      },
      "outputs": [],
      "source": [
        "werkstueck1 = { 'r': 175, 'g': 35, 'b': 7 }\n",
        "werkstueck2 = { 'r': 3, 'g': 45, 'b': 162 }"
      ]
    },
    {
      "cell_type": "markdown",
      "id": "bbdd8def",
      "metadata": {
        "id": "bbdd8def"
      },
      "source": [
        "Das so definierte Werkstück 1 hat **<font color=\"#AF2307\">diese Farbe (RGB: 175, 35, 7)</font>** - ist also \"ziemlich rot\", während Werkstück 2 **<font color=\"#032DA2\">ziemlich blau aussieht (RGB: 3, 45, 162)</font>**."
      ]
    },
    {
      "cell_type": "markdown",
      "id": "d6b998bd",
      "metadata": {
        "id": "d6b998bd"
      },
      "source": [
        "## Erstellung der Sensor-Klasse\n",
        "Wir fangen nun damit an, unseren Kamerasensor zu definieren. Wir definieren dazu zunächst den Bauplan (die Klasse) **Sensor**.\n",
        "\n",
        "Sensoren sollen Schwellwerte für die einzelnen Farben haben - der Einfachheit halber nehmen wir hier nur einen Minimalwert für Rot (**minRot**) und einen Maxmalwert für die beiden anderen Farben (**maxGruen** und **maxBlau**)\n",
        "\n",
        "#### Das Klassengerüst und die Attribute\n",
        "In Python definieren wir die Attribute innerhalb eines Konstruktors (erzeugende Funktion), der den Namen **\\_\\_init\\_\\_** haben muss und wie einen speziellen Parameter **\\_\\_self\\_\\_** als ersten Parameter haben muss.\n",
        "*\\_\\_self\\_\\_* ist der Bezeichner für ein **Objekt** (eine Instanz) der Klasse, also z.B. unseren konkreten Sensor.\n",
        "\n",
        "Das folgende Codestück zeigt, wie das aussehen kann:"
      ]
    },
    {
      "cell_type": "code",
      "execution_count": 2,
      "id": "fa4039db",
      "metadata": {
        "id": "fa4039db"
      },
      "outputs": [],
      "source": [
        "class Sensor:\n",
        "    \n",
        "    def __init__(self):\n",
        "        self.minRot = 160    # minimaler Rotwert\n",
        "        self.maxGruen = 48   # maximaler Grünwert\n",
        "        self.maxBlau = 48    # maximaler Blauwert\n"
      ]
    },
    {
      "cell_type": "markdown",
      "id": "a36265b5",
      "metadata": {
        "id": "a36265b5"
      },
      "source": [
        "#### Funktionalität\n",
        "Unser Sensor \"kann\" aber bisher noch nichts - er hat noch keine Funktionalität und wir wollen ja, dass er ein Werkstück bezügich der Farbe klassifiziert, also entscheidet, ob ein Werkstück gut (rot genug) oder nicht gut ist.\n",
        "\n",
        "Dazu müssen wir dem Sensor eine entsprechende Funktion hinzufügen, eine Methode:"
      ]
    },
    {
      "cell_type": "code",
      "execution_count": 3,
      "id": "19792312",
      "metadata": {
        "id": "19792312"
      },
      "outputs": [],
      "source": [
        "class Sensor:\n",
        "    \n",
        "    def __init__(self):\n",
        "        self.minRot = 160    # minimaler Rotwert \n",
        "        self.maxGruen = 48   # maximaler Grünwert \n",
        "        self.maxBlau = 48    # maximaler Blauwert\n",
        "        \n",
        "    def pruefen(self, werkstueck) -> bool:\n",
        "        if (\n",
        "            (werkstueck['r'] >= self.minRot) and\n",
        "            (werkstueck['g'] <= self.maxGruen) and\n",
        "            (werkstueck['b'] <= self.maxBlau)\n",
        "        ):\n",
        "            return True\n",
        "        else:\n",
        "            return False"
      ]
    },
    {
      "cell_type": "markdown",
      "id": "050930b6",
      "metadata": {
        "id": "050930b6"
      },
      "source": [
        "Wir haben jetzt also einen Bauplan für einen Sensor, der ein \"gesehenes\" Werkstück anhand seiner Farbe klassifizieren kann.\n",
        "\n",
        "#### Instanziieren und Funktionalität nutzen\n",
        "Damit wir das auch nutzen können, benötigen wir eine Instanz dieser Klasse, also ein konkretes Objekt, mit dem wir unsere beiden Werkstücke von oben prüfen können."
      ]
    },
    {
      "cell_type": "code",
      "execution_count": 4,
      "id": "6c489133",
      "metadata": {
        "colab": {
          "base_uri": "https://localhost:8080/"
        },
        "id": "6c489133",
        "outputId": "4aaa2f51-6be7-43b6-aaf9-5fbeeb566c8f"
      },
      "outputs": [
        {
          "output_type": "stream",
          "name": "stdout",
          "text": [
            "Sensor:  <__main__.Sensor object at 0x7f9d7802c290>\n"
          ]
        }
      ],
      "source": [
        "sensor1 = Sensor()\n",
        "print(\"Sensor: \", sensor1)"
      ]
    },
    {
      "cell_type": "markdown",
      "id": "1395c5d5",
      "metadata": {
        "id": "1395c5d5"
      },
      "source": [
        "Diese etwas kryptische Darstellung ist nur die Repräsentation des Objekts in Python - wir können das neu erzeugte Objekt jetzt zum Prüfen unserer Bauteile verwenden:"
      ]
    },
    {
      "cell_type": "code",
      "execution_count": 5,
      "id": "e8b05eb4",
      "metadata": {
        "colab": {
          "base_uri": "https://localhost:8080/"
        },
        "id": "e8b05eb4",
        "outputId": "dd593b79-9633-43f4-c538-74217438fec9"
      },
      "outputs": [
        {
          "output_type": "stream",
          "name": "stdout",
          "text": [
            "prüfe Werkstück 1:  {'r': 175, 'g': 35, 'b': 7}  ->  True\n",
            "prüfe Werkstück 2:  {'r': 3, 'g': 45, 'b': 162}  ->  False\n"
          ]
        }
      ],
      "source": [
        "print(\"prüfe Werkstück 1: \", werkstueck1, \" -> \", sensor1.pruefen(werkstueck1))\n",
        "print(\"prüfe Werkstück 2: \", werkstueck2, \" -> \", sensor1.pruefen(werkstueck2))"
      ]
    },
    {
      "cell_type": "markdown",
      "id": "d0fa7922",
      "metadata": {
        "id": "d0fa7922"
      },
      "source": [
        "## Übungsaufgabe\n",
        "Erstellen Sie auf die gleiche Art eine Klasse für den Aktor, der zwei Attribute **druck1** und **druck2** haben soll und der eine Methode **pusten** anbietet, die mit einem Wahrheitswert (_bool_) parametrisiert werden soll. Die Methode soll nur ausgeben, mit welchem \"Druck\" gepustet wird."
      ]
    },
    {
      "cell_type": "code",
      "execution_count": 6,
      "id": "5fb79f41",
      "metadata": {
        "id": "5fb79f41"
      },
      "outputs": [],
      "source": [
        "class Aktor:\n",
        "    \n",
        "    def __init__(self):\n",
        "        self.druck1 = 100 # einfacher Druck\n",
        "        self.druck2 = 300 # erhöhter Druck\n",
        "        \n",
        "    def pusten(self, ist_werkstueck_in_ordnung):\n",
        "        if (ist_werkstueck_in_ordnung):\n",
        "            print(\"pusten: \", self.druck1, \" , Werkstueck in Ordnung.\")\n",
        "        else:\n",
        "            print(\"pusten: \", self.druck2, \" , Werkstueck ist Ausschuss.\")"
      ]
    },
    {
      "cell_type": "markdown",
      "id": "4ada22b7",
      "metadata": {
        "id": "4ada22b7"
      },
      "source": [
        "## Zusammenbau - Integration\n",
        "\n",
        "Sie kennen ja bereits Schlangen - wir erstellen jetzt ein Programm, das das ganze Szenario abdeckt. Dazu erstellen wir im ersten Schritt eine Schlange mit 10 Werkstücken, bei denen wir die RGB-Werte zufällig initialisieren:"
      ]
    },
    {
      "cell_type": "code",
      "execution_count": 7,
      "id": "49cfa5e0",
      "metadata": {
        "colab": {
          "base_uri": "https://localhost:8080/"
        },
        "id": "49cfa5e0",
        "outputId": "540aa332-37e8-47b4-a145-4d6604268835"
      },
      "outputs": [
        {
          "output_type": "stream",
          "name": "stdout",
          "text": [
            "deque([{'r': 238, 'g': 34, 'b': 41}, {'r': 228, 'g': 50, 'b': 40}, {'r': 145, 'g': 41, 'b': 48}, {'r': 159, 'g': 39, 'b': 51}, {'r': 247, 'g': 33, 'b': 37}, {'r': 242, 'g': 48, 'b': 38}, {'r': 225, 'g': 37, 'b': 45}, {'r': 197, 'g': 47, 'b': 32}, {'r': 193, 'g': 47, 'b': 37}, {'r': 210, 'g': 49, 'b': 46}])\n"
          ]
        }
      ],
      "source": [
        "import random\n",
        "from collections import deque\n",
        "\n",
        "random.seed(None)\n",
        "werkstuecke = deque()\n",
        "\n",
        "for n in range(0, 10):\n",
        "    werkstueck = {'r': random.randint(128,255), 'g': random.randint(32,51), 'b': random.randint(32,51)}\n",
        "    werkstuecke.append(werkstueck)\n",
        "\n",
        "print(werkstuecke)"
      ]
    },
    {
      "cell_type": "markdown",
      "id": "51a35f7d",
      "metadata": {
        "id": "51a35f7d"
      },
      "source": [
        "Nun erstellen wir die Steuerungslogik, indem wir unsere Warteschlange durchgehen und das jeweils erste Objekt prüfen und ggf. verwerfen."
      ]
    },
    {
      "cell_type": "code",
      "execution_count": 8,
      "id": "cd3791d8",
      "metadata": {
        "scrolled": true,
        "colab": {
          "base_uri": "https://localhost:8080/"
        },
        "id": "cd3791d8",
        "outputId": "56e70986-75ed-44e6-ffad-2c22b3bd643d"
      },
      "outputs": [
        {
          "output_type": "stream",
          "name": "stdout",
          "text": [
            "prüfe  10  Werkstücke...\n",
            "\n",
            "<<<<pruefen>>>>\n",
            "Werkstueck:  {'r': 238, 'g': 34, 'b': 41}\n",
            "pusten:  100  , Werkstueck in Ordnung.\n",
            "\n",
            "<<<<pruefen>>>>\n",
            "Werkstueck:  {'r': 228, 'g': 50, 'b': 40}\n",
            "pusten:  300  , Werkstueck ist Ausschuss.\n",
            "\n",
            "<<<<pruefen>>>>\n",
            "Werkstueck:  {'r': 145, 'g': 41, 'b': 48}\n",
            "pusten:  300  , Werkstueck ist Ausschuss.\n",
            "\n",
            "<<<<pruefen>>>>\n",
            "Werkstueck:  {'r': 159, 'g': 39, 'b': 51}\n",
            "pusten:  300  , Werkstueck ist Ausschuss.\n",
            "\n",
            "<<<<pruefen>>>>\n",
            "Werkstueck:  {'r': 247, 'g': 33, 'b': 37}\n",
            "pusten:  100  , Werkstueck in Ordnung.\n",
            "\n",
            "<<<<pruefen>>>>\n",
            "Werkstueck:  {'r': 242, 'g': 48, 'b': 38}\n",
            "pusten:  100  , Werkstueck in Ordnung.\n",
            "\n",
            "<<<<pruefen>>>>\n",
            "Werkstueck:  {'r': 225, 'g': 37, 'b': 45}\n",
            "pusten:  100  , Werkstueck in Ordnung.\n",
            "\n",
            "<<<<pruefen>>>>\n",
            "Werkstueck:  {'r': 197, 'g': 47, 'b': 32}\n",
            "pusten:  100  , Werkstueck in Ordnung.\n",
            "\n",
            "<<<<pruefen>>>>\n",
            "Werkstueck:  {'r': 193, 'g': 47, 'b': 37}\n",
            "pusten:  100  , Werkstueck in Ordnung.\n",
            "\n",
            "<<<<pruefen>>>>\n",
            "Werkstueck:  {'r': 210, 'g': 49, 'b': 46}\n",
            "pusten:  300  , Werkstueck ist Ausschuss.\n"
          ]
        }
      ],
      "source": [
        "print(\"prüfe \", len(werkstuecke), \" Werkstücke...\")\n",
        "\n",
        "sensor1 = Sensor()\n",
        "aktor1 = Aktor()\n",
        "\n",
        "while werkstuecke:\n",
        "    print(\"\\n<<<<pruefen>>>>\")\n",
        "    werkstueck = werkstuecke.popleft()\n",
        "    print(\"Werkstueck: \", werkstueck)\n",
        "    aktor1.pusten(sensor1.pruefen(werkstueck))"
      ]
    },
    {
      "cell_type": "markdown",
      "id": "9be366cf",
      "metadata": {
        "id": "9be366cf"
      },
      "source": [
        "## Aufgabe\n",
        "Verändern Sie die angegebenen Klassen so, dass sie die Schwellwerte der Sensoren und Aktoren beim Erzeugen der Instanzen verändern können, so dass sie flexiblere Sensoren erhalten.\n",
        "**Tipp:** Dazu müssen Sie der *\\_\\_init\\_\\_*-Methode zusätzliche Parameter mitgeben"
      ]
    },
    {
      "cell_type": "code",
      "execution_count": 8,
      "id": "51405975",
      "metadata": {
        "id": "51405975"
      },
      "outputs": [],
      "source": []
    }
  ],
  "metadata": {
    "kernelspec": {
      "display_name": "Python 3 (ipykernel)",
      "language": "python",
      "name": "python3"
    },
    "language_info": {
      "codemirror_mode": {
        "name": "ipython",
        "version": 3
      },
      "file_extension": ".py",
      "mimetype": "text/x-python",
      "name": "python",
      "nbconvert_exporter": "python",
      "pygments_lexer": "ipython3",
      "version": "3.9.13"
    },
    "colab": {
      "provenance": []
    }
  },
  "nbformat": 4,
  "nbformat_minor": 5
}