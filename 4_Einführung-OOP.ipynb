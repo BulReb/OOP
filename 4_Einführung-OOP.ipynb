{
 "cells": [
  {
   "cell_type": "markdown",
   "id": "442e6292",
   "metadata": {},
   "source": [
    "# Einführung in die objektorientierte Programmierung mit Python\n",
    "\n",
    "Aus den bisherigen Vorlesungen kennen Sie bereits die einfachen Programmierkonstrukte wie\n",
    "* Variablen\n",
    "* Schleifen\n",
    "* Bedingungen\n",
    "* Funktionen.\n",
    "\n",
    "Sie kennen auch bereits die einfachen Datenstrukturen wie\n",
    "* Listen (**list**)\n",
    "* Dictionaries (**dict**)\n",
    "* Schlangen (hier Double-Ended-Queues, **deque**).\n",
    "\n",
    "Als nächstes werden wir die grundlegenden Konstrukte der Objektorientierung am Beispiel des Sensors und des Aktors aus der Vorlesung kennenlernen.\n",
    "\n",
    "In der folgenden Abbildung sehen Sie dazu noch einmal den Aufbau des Systems:\n",
    "\n",
    "![Systemaufbau](./img/aufbau.png)\n",
    "\n",
    "Der Einfachheit halber sagen wir hier, dass ein Werkstück durch einen Farbwert repräsentiert wird (RGB) und wir speichern die Werte in einem Dictionary (dict)"
   ]
  },
  {
   "cell_type": "code",
   "execution_count": 14,
   "id": "81638d27",
   "metadata": {},
   "outputs": [],
   "source": [
    "werkstueck1 = { 'r': 0xAF, 'g': 0x23, 'b': 0x07 }\n",
    "werkstueck2 = { 'r': 0x03, 'g': 0x2D, 'b': 0xA2 }"
   ]
  },
  {
   "cell_type": "markdown",
   "id": "bbdd8def",
   "metadata": {},
   "source": [
    "Das so definierte Werkstück 1 hat **<font color=\"#AF2307\">Diese Farbe (#AF2307)</font>** - ist also \"ziemlich rot\", währen Werkstück 2 **<font color=\"#032DA2\">ziemlich blau aussieht (#032DA2)</font>**"
   ]
  },
  {
   "cell_type": "markdown",
   "id": "d6b998bd",
   "metadata": {},
   "source": [
    "## Erstellung der Sensor-Klasse\n",
    "Wir fangen nun damit an, unseren Kamerasensor zu definieren. Wir definieren dazu zunächst den Bauplan (die Klasse) **Sensor**.\n",
    "\n",
    "Sensoren sollen Schwellwerte für die einzelnen Farben haben - der Einfachheit halber nehmen wir hier nur einen Minimalwert für Rot (**minRot**) und einen Maxmalwert für die beiden anderen Farben (**maxGruen** und **maxBlau**)\n",
    "\n",
    "#### Das Klassengerüst und die Attribute\n",
    "In Python definieren wir die Attribute innerhalb eines Konstruktors (erzeugende Funktion), der den Namen **\\_\\_init\\_\\_** haben muss und wie einen speziellen Parameter **\\_\\_self\\_\\_** als ersten Parameter haben muss.\n",
    "*\\_\\_self\\_\\_* ist der Bezeichner für ein **Objekt** (eine Instanz) der Klasse, also z.B. unseren konkreten Sensor.\n",
    "\n",
    "Das folgende Codestück zeigt, wie das aussehen kann:"
   ]
  },
  {
   "cell_type": "code",
   "execution_count": 15,
   "id": "fa4039db",
   "metadata": {},
   "outputs": [],
   "source": [
    "class Sensor:\n",
    "    \n",
    "    def __init__(self):\n",
    "        self.minRot = 0xA0     # minimaler Rotwert #A0\n",
    "        self.maxGruen = 0x30   # maximaler Grünwert #30\n",
    "        self.maxBlau = 0x30    # maximaler Blauwert #30\n"
   ]
  },
  {
   "cell_type": "markdown",
   "id": "a36265b5",
   "metadata": {},
   "source": [
    "#### Funktionalität\n",
    "Unser Sensor \"kann\" aber bisher noch nichts - er hat noch keine Funktionalität und wir wollen ja, dass er ein Werkstück bezügich der Farbe klassifiziert, also entscheidet, ob ein Werkstück gut (rot genug) oder nicht gut ist.\n",
    "\n",
    "Dazu müssen wir dem Sensor eine entsprechende Funktion hinzufügen, eine Methode:"
   ]
  },
  {
   "cell_type": "code",
   "execution_count": 16,
   "id": "19792312",
   "metadata": {},
   "outputs": [],
   "source": [
    "class Sensor:\n",
    "    \n",
    "    def __init__(self):\n",
    "        self.minRot = 0xA0     # minimaler Rotwert #A0\n",
    "        self.maxGruen = 0x30   # maximaler Grünwert #30\n",
    "        self.maxBlau = 0x30    # maximaler Blauwert #30\n",
    "        \n",
    "    def pruefen(self, werkstueck) -> bool:\n",
    "        if (\n",
    "            (werkstueck['r'] >= self.minRot) and\n",
    "            (werkstueck['g'] <= self.maxGruen) and\n",
    "            (werkstueck['b'] <= self.maxBlau)\n",
    "        ):\n",
    "            return True\n",
    "        else:\n",
    "            return False"
   ]
  },
  {
   "cell_type": "markdown",
   "id": "050930b6",
   "metadata": {},
   "source": [
    "Wir haben jetzt also einen Bauplan für einen Sensor, der ein \"gesehenes\" Werkstück anhand seiner Farbe klassifizieren kann.\n",
    "\n",
    "#### Instanziieren und Funktionalität nutzen\n",
    "Damit wir das auch nutzen können, benötigen wir eine Instanz dieser Klasse, also ein konkretes Objekt, mit dem wir unsere beiden Werkstücke von oben prüfen können."
   ]
  },
  {
   "cell_type": "code",
   "execution_count": 17,
   "id": "6c489133",
   "metadata": {},
   "outputs": [
    {
     "name": "stdout",
     "output_type": "stream",
     "text": [
      "Sensor:  <__main__.Sensor object at 0x0000017A7867DC70>\n"
     ]
    }
   ],
   "source": [
    "s = Sensor()\n",
    "print(\"Sensor: \", s)"
   ]
  },
  {
   "cell_type": "markdown",
   "id": "1395c5d5",
   "metadata": {},
   "source": [
    "Diese etwas kryptische Darstellung ist nur die Repräsentation des Objekts in Python - wir können das neu erzeugte Objekt jetzt zum Prüfen unserer Bauteile verwenden:"
   ]
  },
  {
   "cell_type": "code",
   "execution_count": 18,
   "id": "e8b05eb4",
   "metadata": {},
   "outputs": [
    {
     "name": "stdout",
     "output_type": "stream",
     "text": [
      "prüfe Werkstück 1:  {'r': 175, 'g': 35, 'b': 7}  ->  True\n",
      "prüfe Werkstück 2:  {'r': 3, 'g': 45, 'b': 162}  ->  False\n"
     ]
    }
   ],
   "source": [
    "print(\"prüfe Werkstück 1: \", werkstueck1, \" -> \", s.pruefen(werkstueck1))\n",
    "print(\"prüfe Werkstück 2: \", werkstueck2, \" -> \", s.pruefen(werkstueck2))"
   ]
  },
  {
   "cell_type": "markdown",
   "id": "d0fa7922",
   "metadata": {},
   "source": [
    "## Übungsaufgabe\n",
    "Erstellen Sie auf die gleiche Art eine Klasse für den Aktor, der zwei Attribute **druck1** und **druck2** haben soll und der eine Methode **pusten** anbietet, die mit einem Wahrheitswert (_bool_) parametrisiert werden soll. Die Methode soll nur ausgeben, mit welchem \"Druck\" gepustet wird."
   ]
  },
  {
   "cell_type": "code",
   "execution_count": 35,
   "id": "5fb79f41",
   "metadata": {},
   "outputs": [],
   "source": [
    "class Aktor:\n",
    "    \n",
    "    def __init__(self):\n",
    "        self.druck1 = 100 # einfacher Druck\n",
    "        self.druck2 = 300 # erhöhter Druck\n",
    "        \n",
    "    def pusten(self, nutzeDruck1):\n",
    "        if (nutzeDruck1):\n",
    "            print(\"pusten: \", self.druck1)\n",
    "        else:\n",
    "            print(\"pusten: \", self.druck2)"
   ]
  },
  {
   "cell_type": "markdown",
   "id": "ca8456de",
   "metadata": {},
   "source": [
    "#### Beispiellösung\n",
    "<pre><code>class Aktor:\n",
    "    def __init__(self):\n",
    "        self.druck1 = 100\n",
    "        self.druck2 = 300\n",
    "    def pusten(self, druck1):\n",
    "        if (druck1):\n",
    "            print(\"pusten: \", self.druck1)\n",
    "        else:\n",
    "            print(\"pusten: \", self.druck2)</code></pre>"
   ]
  },
  {
   "cell_type": "markdown",
   "id": "4ada22b7",
   "metadata": {},
   "source": [
    "## Zusammenbau - Integration\n",
    "\n",
    "Sie kennen ja bereits Schlangen - wir erstellen jetzt ein Programm, das das ganze Szenario abdeckt. Dazu erstellen wir im ersten Schritt eine Schlange mit 10 Werkstücken, bei denen wir die RGB-Werte zufällig initialisieren:"
   ]
  },
  {
   "cell_type": "code",
   "execution_count": 33,
   "id": "49cfa5e0",
   "metadata": {},
   "outputs": [
    {
     "name": "stdout",
     "output_type": "stream",
     "text": [
      "deque([{'r': 242, 'g': 42, 'b': 42}, {'r': 234, 'g': 37, 'b': 44}, {'r': 159, 'g': 48, 'b': 46}, {'r': 171, 'g': 40, 'b': 39}, {'r': 169, 'g': 51, 'b': 40}, {'r': 137, 'g': 43, 'b': 37}, {'r': 243, 'g': 48, 'b': 36}, {'r': 160, 'g': 39, 'b': 37}, {'r': 214, 'g': 38, 'b': 45}, {'r': 144, 'g': 33, 'b': 49}])\n"
     ]
    }
   ],
   "source": [
    "import random\n",
    "from collections import deque\n",
    "\n",
    "random.seed(None)\n",
    "werkstuecke = deque()\n",
    "\n",
    "for n in range(0, 10):\n",
    "    werkstueck = {'r': random.randint(0x80,0xFF), 'g': random.randint(0x20,0x33), 'b': random.randint(0x20,0x33)}\n",
    "    werkstuecke.append(werkstueck)\n",
    "\n",
    "print(werkstuecke)"
   ]
  },
  {
   "cell_type": "markdown",
   "id": "51a35f7d",
   "metadata": {},
   "source": [
    "Nun erstellen wir die Steuerungslogik, indem wir unsere Warteschlange durchgehen und das jeweils erste Objekt prüfen und ggf. verwerfen."
   ]
  },
  {
   "cell_type": "code",
   "execution_count": 34,
   "id": "cd3791d8",
   "metadata": {
    "scrolled": true
   },
   "outputs": [
    {
     "name": "stdout",
     "output_type": "stream",
     "text": [
      "prüfe  10  Werkstücke...\n",
      "Werkstueck:  {'r': 242, 'g': 42, 'b': 42}\n",
      "pusten:  100\n",
      "Werkstueck:  {'r': 234, 'g': 37, 'b': 44}\n",
      "pusten:  100\n",
      "Werkstueck:  {'r': 159, 'g': 48, 'b': 46}\n",
      "pusten:  300\n",
      "Werkstueck:  {'r': 171, 'g': 40, 'b': 39}\n",
      "pusten:  100\n",
      "Werkstueck:  {'r': 169, 'g': 51, 'b': 40}\n",
      "pusten:  300\n",
      "Werkstueck:  {'r': 137, 'g': 43, 'b': 37}\n",
      "pusten:  300\n",
      "Werkstueck:  {'r': 243, 'g': 48, 'b': 36}\n",
      "pusten:  100\n",
      "Werkstueck:  {'r': 160, 'g': 39, 'b': 37}\n",
      "pusten:  100\n",
      "Werkstueck:  {'r': 214, 'g': 38, 'b': 45}\n",
      "pusten:  100\n",
      "Werkstueck:  {'r': 144, 'g': 33, 'b': 49}\n",
      "pusten:  300\n"
     ]
    }
   ],
   "source": [
    "print(\"prüfe \", len(werkstuecke), \" Werkstücke...\")\n",
    "\n",
    "sensor = Sensor()\n",
    "aktor = Aktor()\n",
    "\n",
    "while werkstuecke:\n",
    "    werkstueck = werkstuecke.popleft()\n",
    "    print(\"Werkstueck: \", werkstueck)\n",
    "    aktor.pusten(sensor.pruefen(werkstueck))"
   ]
  },
  {
   "cell_type": "markdown",
   "id": "9be366cf",
   "metadata": {},
   "source": [
    "## Aufgabe\n",
    "Verändern Sie die angegebenen Klassen so, dass sie die Schwellwerte der Sensoren und Aktoren beim Erzeugen der Instanzen verändern können, so dass sie flexiblere Sensoren erhalten.\n",
    "**Tipp:** Dazu müssen Sie der *\\_\\_init\\_\\_*-Methode zusätzliche Parameter mitgeben"
   ]
  },
  {
   "cell_type": "code",
   "execution_count": null,
   "id": "51405975",
   "metadata": {},
   "outputs": [],
   "source": []
  }
 ],
 "metadata": {
  "kernelspec": {
   "display_name": "Python 3 (ipykernel)",
   "language": "python",
   "name": "python3"
  },
  "language_info": {
   "codemirror_mode": {
    "name": "ipython",
    "version": 3
   },
   "file_extension": ".py",
   "mimetype": "text/x-python",
   "name": "python",
   "nbconvert_exporter": "python",
   "pygments_lexer": "ipython3",
   "version": "3.9.13"
  }
 },
 "nbformat": 4,
 "nbformat_minor": 5
}
